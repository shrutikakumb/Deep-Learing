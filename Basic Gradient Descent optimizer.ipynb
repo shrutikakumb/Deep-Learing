{
 "cells": [
  {
   "cell_type": "markdown",
   "id": "dca48995",
   "metadata": {},
   "source": [
    "# Basic Gradient descent optimizer"
   ]
  },
  {
   "cell_type": "code",
   "execution_count": 1,
   "id": "2dd146f9",
   "metadata": {
    "ExecuteTime": {
     "end_time": "2023-03-08T10:44:04.379564Z",
     "start_time": "2023-03-08T10:44:00.622482Z"
    }
   },
   "outputs": [],
   "source": [
    "import numpy as np \n",
    "from sklearn.metrics import mean_squared_error "
   ]
  },
  {
   "cell_type": "code",
   "execution_count": 2,
   "id": "88fe7085",
   "metadata": {
    "ExecuteTime": {
     "end_time": "2023-03-08T10:44:04.397097Z",
     "start_time": "2023-03-08T10:44:04.385445Z"
    }
   },
   "outputs": [],
   "source": [
    "x=np.array([1,2,3,4])\n",
    "y=np.array([10,12,20,25])"
   ]
  },
  {
   "cell_type": "code",
   "execution_count": 3,
   "id": "7a6188fd",
   "metadata": {
    "ExecuteTime": {
     "end_time": "2023-03-08T10:44:06.397089Z",
     "start_time": "2023-03-08T10:44:06.380443Z"
    }
   },
   "outputs": [],
   "source": [
    "def gradient_descent(x,y):\n",
    "    weight =0.1 \n",
    "    bias =0.1 \n",
    "    learning_rate=0.05 \n",
    "    n=len(x)\n",
    "    iteration=100\n",
    "    \n",
    "    #forward propogation\n",
    "    for i in range(iteration):\n",
    "        ypred =weight*x+bias\n",
    "        mse=mean_squared_error(y,ypred)\n",
    "        \n",
    "    #Backward Propogation\n",
    "    dw= -(2/n)*sum(x*(y-ypred))\n",
    "    db=-(2/n)*sum(y-ypred)\n",
    "    \n",
    "    #Update the weight and bias \n",
    "    \n",
    "    weight =weight-(learning_rate*dw)\n",
    "    bias=bias-(learning_rate*db)\n",
    "    print(f\"{i}MSE: {mse},Weight:{weight}.,Bias: {bias}\")"
   ]
  },
  {
   "cell_type": "code",
   "execution_count": 4,
   "id": "e0c54cb7",
   "metadata": {
    "ExecuteTime": {
     "end_time": "2023-03-08T10:44:08.322271Z",
     "start_time": "2023-03-08T10:44:08.236925Z"
    }
   },
   "outputs": [
    {
     "name": "stdout",
     "output_type": "stream",
     "text": [
      "99MSE: 304.33500000000004,Weight:4.85.,Bias: 1.74\n"
     ]
    }
   ],
   "source": [
    "gradient_descent(x,y)"
   ]
  },
  {
   "cell_type": "code",
   "execution_count": null,
   "id": "91741137",
   "metadata": {},
   "outputs": [],
   "source": []
  }
 ],
 "metadata": {
  "kernelspec": {
   "display_name": "Python 3 (ipykernel)",
   "language": "python",
   "name": "python3"
  },
  "language_info": {
   "codemirror_mode": {
    "name": "ipython",
    "version": 3
   },
   "file_extension": ".py",
   "mimetype": "text/x-python",
   "name": "python",
   "nbconvert_exporter": "python",
   "pygments_lexer": "ipython3",
   "version": "3.9.13"
  }
 },
 "nbformat": 4,
 "nbformat_minor": 5
}
